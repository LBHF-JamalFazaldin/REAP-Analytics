{
 "cells": [
  {
   "cell_type": "code",
   "execution_count": null,
   "metadata": {},
   "outputs": [],
   "source": [
    "import pandas as pd\n",
    "import os\n",
    "\n",
    "os.chdir(r'C:\\Users\\jf79\\Repos\\REAP-Analytics')\n",
    "import myfuncs.myfuncs as mf\n",
    "\n",
    "\n",
    "import warnings\n",
    "warnings.filterwarnings('ignore')\n",
    "\n",
    "path_to_data = r\"C:\\Users\\jf79\\OneDrive - Office Shared Service\\Sharepoint Links\\BI - Corporate - Documents\\REAP\\1. REAP Monthly Report 2025\\Netcall\\All Historical Data\\Interactions Data\"\n",
    "os.chdir(path_to_data)\n",
    "mf.read_directory()\n",
    "\n",
    "master_data = pd.read_csv('Netcall Interactions Master Data.csv',low_memory=False)\n",
    "master_data = mf.strip_dataframe(master_data)\n"
   ]
  },
  {
   "cell_type": "code",
   "execution_count": 2,
   "metadata": {},
   "outputs": [],
   "source": [
    "master_df = master_data.copy()\n",
    "\n",
    "columns_to_drop = [\n",
    "    'customername','assistedby',\n",
    "    'casereference','ipaddress'\n",
    "]\n",
    "master_df.drop(columns=columns_to_drop, inplace=True)\n",
    "\n",
    "master_df['nullcount'] = master_df.isna().sum(axis=1)\n",
    "master_df.sort_values(by=['interactionid','nullcount'], inplace=True)\n",
    "drop = master_df[master_df['interactionid'].duplicated(keep='first')]\n",
    "master_df.drop(drop.index, inplace=True)\n",
    "master_df.drop(columns='nullcount', inplace=True)\n",
    "\n",
    "columns_to_change = ['timeended', 'timequeued']\n",
    "for column in columns_to_change:\n",
    "    master_df[column] = pd.to_datetime(master_df[column])\n",
    "\n",
    "master_df['queuetime'] = master_df['timeended'] - master_df['timequeued']\n",
    "\n",
    "columns_to_change = [\n",
    "    'duration','talktime','holdtime',\n",
    "    'wrapupduration','agenthandlingtime'\n",
    "]\n",
    "master_df[columns_to_change] = master_df[columns_to_change].apply(lambda x: x.str.replace(r'(?<!^)-', '', regex=True))\n",
    "for column in columns_to_change:\n",
    "    master_df[column] = pd.to_timedelta(master_df[column])\n",
    "\n",
    "master_df['dateofqueue'] = master_df['timequeued'].dt.date\n",
    "\n",
    "mf.validate_data(master_df)"
   ]
  },
  {
   "cell_type": "code",
   "execution_count": null,
   "metadata": {},
   "outputs": [],
   "source": [
    "aggregated_interactions = master_df.groupby(['direction','type','dateofqueue','groupname','queue','result']).agg(\n",
    "    number_of_interactions = ('interactionid', 'count'),\n",
    "    wrap_upduration = ('wrapupduration','sum'),\n",
    "    queue_time = ('queuetime','sum'),\n",
    "    duration = ('duration','sum'),\n",
    "    talk_time = ('talktime','sum'),\n",
    "    hold_time = ('holdtime','sum'),\n",
    "    agent_handling_time = ('agenthandlingtime','sum'),\n",
    ").reset_index()\n",
    "\n",
    "columns_to_change = [\n",
    "    'wrap_upduration','queue_time','duration',\n",
    "    'talk_time','hold_time','agent_handling_time'\n",
    "]\n",
    "for column in columns_to_change:\n",
    "    aggregated_interactions[column].fillna(pd.Timedelta(0), inplace=True)\n",
    "    aggregated_interactions[column] = aggregated_interactions[column].apply(lambda x: x.total_seconds())\n",
    "\n",
    "mf.validate_data(aggregated_interactions)"
   ]
  },
  {
   "cell_type": "code",
   "execution_count": null,
   "metadata": {},
   "outputs": [],
   "source": [
    "mf.export_file(\n",
    "    aggregated_interactions,\n",
    "    directory = path_to_data,\n",
    "    df_name='Netcall Dashboard Data'\n",
    ")"
   ]
  }
 ],
 "metadata": {
  "kernelspec": {
   "display_name": "Python 3",
   "language": "python",
   "name": "python3"
  },
  "language_info": {
   "codemirror_mode": {
    "name": "ipython",
    "version": 3
   },
   "file_extension": ".py",
   "mimetype": "text/x-python",
   "name": "python",
   "nbconvert_exporter": "python",
   "pygments_lexer": "ipython3",
   "version": "3.9.13"
  }
 },
 "nbformat": 4,
 "nbformat_minor": 2
}
